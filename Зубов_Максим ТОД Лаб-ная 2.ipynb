{
 "cells": [
  {
   "cell_type": "markdown",
   "id": "e0bbd497",
   "metadata": {},
   "source": [
    "Задача 1. Создать класс, хранящий в себе информацию о котах.\n",
    "С помощью конструктора класса создать несколько объектов данного класса"
   ]
  },
  {
   "cell_type": "code",
   "execution_count": 2,
   "id": "1e7e1b15",
   "metadata": {},
   "outputs": [
    {
     "name": "stdout",
     "output_type": "stream",
     "text": [
      "Имя первого кота: Maxwell\n",
      "Имя второго кота: Baton\n",
      "кошачие кошачие\n"
     ]
    }
   ],
   "source": [
    "class Cats(object):\n",
    "    kind = 'кошачие'\n",
    "    def __init__(self, age, color, name):\n",
    "        self.age = age\n",
    "        self.color = color\n",
    "        self.name = name\n",
    "\n",
    "cat1 = Cats(1, 'Grey', 'Maxwell')\n",
    "print(f'Имя первого кота: {cat1.name}')\n",
    "cat2 = Cats(3, 'Red', 'Baton')\n",
    "print(f'Имя второго кота: {cat2.name}')\n",
    "print(cat2.kind, cat1.kind)"
   ]
  },
  {
   "cell_type": "markdown",
   "id": "eaebd888",
   "metadata": {},
   "source": [
    "Задача 2. Создать класс Учитель и Ученик. По результатам работы данных классов\n",
    "вывести на экран всех учеников, которых обучил учитель. Для каждого ученика вывести\n",
    "информацию, по какому предмету они обучились и их оценку."
   ]
  },
  {
   "cell_type": "code",
   "execution_count": 1,
   "id": "8a59f3ff",
   "metadata": {},
   "outputs": [
    {
     "name": "stdout",
     "output_type": "stream",
     "text": [
      "['max', 'sasha', 'andrey']\n",
      "max pe 5\n",
      "sasha math 4\n",
      "andrey literature 5\n"
     ]
    }
   ],
   "source": [
    "class Teacher(object):\n",
    "    pupils = []\n",
    "    def add_pupil(self, pupil):\n",
    "        self.pupils += [pupil.name]\n",
    "    def listpups(self):\n",
    "        print(self.pupils)\n",
    "class Pupil(object):\n",
    "    def __init__(self, name, subject, mark):\n",
    "        self.name = name\n",
    "        self.subject = subject\n",
    "        self.mark = mark\n",
    "    def info(self):\n",
    "        print(self.name, self.subject, self.mark)\n",
    "    \n",
    "p1 = Pupil('max', 'pe', 5)\n",
    "p2 = Pupil('sasha', 'math', 4)\n",
    "p3 = Pupil('andrey', 'literature', 5)\n",
    "t = Teacher()\n",
    "t.add_pupil(p1)\n",
    "t.add_pupil(p2)\n",
    "t.add_pupil(p3)\n",
    "t.listpups()\n",
    "p1.info()\n",
    "p2.info()\n",
    "p3.info()"
   ]
  },
  {
   "cell_type": "markdown",
   "id": "bbedd535",
   "metadata": {},
   "source": [
    "Задача 3. Создать два класса домашних и диких животных,\n",
    "содержащих одинаковый метод \"Предпочтения в еде\". Использовать данный метод для\n",
    "двух классов (принцип полиморфизма).В конструкторе домашнего животного\n",
    "использовать название животного и возраст. В конструкторе дикого животного\n",
    "использовать только название животного"
   ]
  },
  {
   "cell_type": "code",
   "execution_count": 8,
   "id": "48120308",
   "metadata": {},
   "outputs": [
    {
     "name": "stdout",
     "output_type": "stream",
     "text": [
      "cat в возрасте 2 питается кормом для домашних животных\n",
      "lion питается сырым мясом\n"
     ]
    }
   ],
   "source": [
    "class DomesticPets(object):\n",
    "    def __init__(self, name, age):\n",
    "        self.name = name\n",
    "        self.age = age\n",
    "    def tastes(self):\n",
    "        print(f'{self.name} в возрасте {self.age} питается кормом для домашних животных')\n",
    "    \n",
    "class WildAnimals(DomesticPets):\n",
    "    def __init__(self, name):\n",
    "        self.name = name\n",
    "    def tastes(self):\n",
    "        print(f'{self.name} питается сырым мясом')\n",
    "\n",
    "p1 = DomesticPets('cat', 2)\n",
    "a1 = WildAnimals('lion')\n",
    "p1.tastes()\n",
    "a1.tastes()"
   ]
  },
  {
   "cell_type": "markdown",
   "id": "d17b20f4",
   "metadata": {},
   "source": [
    "Задача 4. Создайте класс Часы по переводу минут в часы или секунды.\n",
    "Пользователь должен задать время, напрмер, 89 минут, и также пользователь должен\n",
    "определить в часы или в секунды перевести заданное время. Используйте\n",
    "принципы абстракции, инкапсуляции, а также конструктор классов"
   ]
  },
  {
   "cell_type": "code",
   "execution_count": 11,
   "id": "e0f7bded",
   "metadata": {},
   "outputs": [
    {
     "name": "stdout",
     "output_type": "stream",
     "text": [
      "3660\n"
     ]
    }
   ],
   "source": [
    "class Clock(object):\n",
    "    def __init__(self, minutes):\n",
    "        self.minutes = minutes\n",
    "    def hours(self):\n",
    "        self.minutes /= 60\n",
    "        print(self.minutes)\n",
    "    def seconds(self):\n",
    "        self.minutes *= 60\n",
    "        print(self.minutes)\n",
    "t1 = Clock(61)\n",
    "t1.seconds()"
   ]
  },
  {
   "cell_type": "markdown",
   "id": "f1fb2ca6",
   "metadata": {},
   "source": [
    "Задача 5. Создайте класс мебели . Используйте конструктор с параметрами по умолчанию.\n",
    "Определите с помощью класса дорогая или нет мебель. Учесть, что дорогая мебель\n",
    "с ценой выше 20000руб, а дешевая с ценой ниже 5 000руб.Ценовые пороги мебели может\n",
    "задавать пользователь."
   ]
  },
  {
   "cell_type": "code",
   "execution_count": 6,
   "id": "ad4da07f",
   "metadata": {},
   "outputs": [
    {
     "name": "stdout",
     "output_type": "stream",
     "text": [
      "задайте границы оценки мебели при условии, что дорогая стоит не меньше 20000, а дешевая не дороже 5000\n",
      "мебель стоимостью меньше 5000 считается дешевой, дороже 20500 - дорогой\n",
      "мебель дешевая\n"
     ]
    }
   ],
   "source": [
    "class Furniture(object):\n",
    "    def __init__(self, price):\n",
    "        self.price = price\n",
    "    def price_limitations(self, cheap, exp):\n",
    "        print('задайте границы оценки мебели при условии, что дорогая стоит не меньше 20000, а дешевая не дороже 5000')\n",
    "        if cheap > 5000:\n",
    "            raise ValueError\n",
    "        elif exp < 20000:\n",
    "            raise ValueError\n",
    "        print(f'мебель стоимостью меньше {cheap} считается дешевой, дороже {exp} - дорогой')\n",
    "    def price_check(self, cost):\n",
    "        if cost > 20000:\n",
    "            print('мебель дорога')\n",
    "        elif cost < 5000:\n",
    "            print('мебель дешевая')\n",
    "        else:\n",
    "            print('мебель имеет среднюю стоимость')\n",
    "        \n",
    "f1 = Furniture(1700)\n",
    "f1.price_limitations(5000, 20500)\n",
    "f1.price_check(1700)"
   ]
  },
  {
   "cell_type": "markdown",
   "id": "704dd132",
   "metadata": {},
   "source": [
    "Задача 6. Создайте класс окружность и класс прямоугольник, а также методы подсчета\n",
    "периметра для этих фигур.Выведите информацию по периметру фигур, используя принцип\n",
    "полиморфизма"
   ]
  },
  {
   "cell_type": "code",
   "execution_count": 25,
   "id": "a4bbadae",
   "metadata": {},
   "outputs": [
    {
     "name": "stdout",
     "output_type": "stream",
     "text": [
      "62.800000000000004\n",
      "18\n"
     ]
    }
   ],
   "source": [
    "class Circle(object):\n",
    "    def __init__(self, radius):\n",
    "        self.radius = radius\n",
    "    def perimetr(self):\n",
    "        print(2 * 3.14 * self.radius)\n",
    "class Rectangle(Circle):\n",
    "    def __init__(self, a, b):\n",
    "        self.a = a\n",
    "        self.b = b\n",
    "    def perimetr(self):\n",
    "        print(self.a*2+self.b*2)\n",
    "\n",
    "f1 = Circle(10)\n",
    "f1.perimetr()\n",
    "f2 = Rectangle(5, 4)\n",
    "f2.perimetr()"
   ]
  }
 ],
 "metadata": {
  "kernelspec": {
   "display_name": "Python 3 (ipykernel)",
   "language": "python",
   "name": "python3"
  },
  "language_info": {
   "codemirror_mode": {
    "name": "ipython",
    "version": 3
   },
   "file_extension": ".py",
   "mimetype": "text/x-python",
   "name": "python",
   "nbconvert_exporter": "python",
   "pygments_lexer": "ipython3",
   "version": "3.9.7"
  }
 },
 "nbformat": 4,
 "nbformat_minor": 5
}
